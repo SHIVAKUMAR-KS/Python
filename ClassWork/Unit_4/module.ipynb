{
 "cells": [
  {
   "cell_type": "code",
   "execution_count": 2,
   "metadata": {},
   "outputs": [
    {
     "name": "stdout",
     "output_type": "stream",
     "text": [
      "22\n"
     ]
    }
   ],
   "source": [
    "# Telling the file object position\n",
    "f = open(\"text.txt\", 'r')\n",
    "lines = f.read()\n",
    "\n",
    "#tell()\n",
    "print(f.tell())\n",
    "f.close()"
   ]
  },
  {
   "cell_type": "code",
   "execution_count": 4,
   "metadata": {},
   "outputs": [
    {
     "name": "stdout",
     "output_type": "stream",
     "text": [
      "b'shiva kuma'\n",
      "12\n",
      "b'\\nhey\\r\\nthis'\n"
     ]
    }
   ],
   "source": [
    "# Setting the file object position\n",
    "f = open(\"text.txt\", 'rb')\n",
    "lines = f.read(10)\n",
    "print(lines)\n",
    "\n",
    "#seek()\n",
    "print(f.seek(2,1))\n",
    "lines = f.read(10)\n",
    "print(lines)\n",
    "f.close()"
   ]
  },
  {
   "cell_type": "code",
   "execution_count": 5,
   "metadata": {},
   "outputs": [
    {
     "name": "stdout",
     "output_type": "stream",
     "text": [
      "hiva kumar\n",
      "\n"
     ]
    }
   ],
   "source": [
    "#ascci file example\n",
    "f = open(\"text.txt\", 'r')\n",
    "f.seek(1)\n",
    "print(f.readline())"
   ]
  },
  {
   "cell_type": "code",
   "execution_count": null,
   "metadata": {},
   "outputs": [],
   "source": [
    "with open(\"example.txt\", \"r\") as file:\n",
    "    content = file.read()\n",
    "    print(content)\n"
   ]
  },
  {
   "cell_type": "code",
   "execution_count": 4,
   "metadata": {},
   "outputs": [
    {
     "name": "stdout",
     "output_type": "stream",
     "text": [
      "Text reversed and written to text1.txt successfully.\n"
     ]
    }
   ],
   "source": [
    "def reverse_text(input_file, output_file):\n",
    "    # Open the input file for reading\n",
    "    infile = open(input_file, 'r')\n",
    "\n",
    "    # Read the content from the input file\n",
    "    content = infile.read()\n",
    "\n",
    "    # Close the input file\n",
    "    infile.close()\n",
    "\n",
    "    # Reverse the content\n",
    "    reversed_content = content[::-1]\n",
    "\n",
    "    # Open the output file for writing\n",
    "    outfile = open(output_file, 'w')\n",
    "\n",
    "    # Write the reversed content into the output file\n",
    "    outfile.write(reversed_content)\n",
    "\n",
    "    # Close the output file\n",
    "    outfile.close()\n",
    "\n",
    "    print(f\"Text reversed and written to {output_file} successfully.\")\n",
    "\n",
    "# Example usage\n",
    "input_file_path = \"text.txt\"   # Replace with your input file path\n",
    "output_file_path = \"text1.txt\" # Replace with your output file path\n",
    "\n",
    "reverse_text(input_file_path, output_file_path)\n"
   ]
  },
  {
   "cell_type": "code",
   "execution_count": 5,
   "metadata": {},
   "outputs": [
    {
     "name": "stdout",
     "output_type": "stream",
     "text": [
      "Data pickled and saved.\n"
     ]
    }
   ],
   "source": [
    "import pickle\n",
    "\n",
    "# Sample data\n",
    "data_to_pickle = {'name': 'John', 'age': 25, 'city': 'New York'}\n",
    "\n",
    "# Pickle the data and write it to a file\n",
    "with open('data.pickle', 'wb') as file:\n",
    "    pickle.dump(data_to_pickle, file)\n",
    "\n",
    "print(\"Data pickled and saved.\")\n"
   ]
  },
  {
   "cell_type": "code",
   "execution_count": 6,
   "metadata": {},
   "outputs": [
    {
     "name": "stdout",
     "output_type": "stream",
     "text": [
      "Unpickled Data: {'name': 'John', 'age': 25, 'city': 'New York'}\n"
     ]
    }
   ],
   "source": [
    "import pickle\n",
    "\n",
    "# Unpickle the data from the file\n",
    "with open('data.pickle', 'rb') as file:\n",
    "    unpickled_data = pickle.load(file)\n",
    "\n",
    "# Display the unpickled data\n",
    "print(\"Unpickled Data:\", unpickled_data)\n"
   ]
  },
  {
   "cell_type": "code",
   "execution_count": 7,
   "metadata": {},
   "outputs": [
    {
     "name": "stderr",
     "output_type": "stream",
     "text": [
      "Error: division by zero\n"
     ]
    }
   ],
   "source": [
    "import sys\n",
    "\n",
    "try:\n",
    "    result = 10 / 0\n",
    "except Exception as e:\n",
    "    sys.stderr.write(f\"Error: {str(e)}\\n\")\n"
   ]
  },
  {
   "cell_type": "code",
   "execution_count": 8,
   "metadata": {},
   "outputs": [
    {
     "name": "stdout",
     "output_type": "stream",
     "text": [
      "Error: Division by zero!\n"
     ]
    }
   ],
   "source": [
    "try:\n",
    "    result = 10 / 0\n",
    "except ZeroDivisionError:\n",
    "    print(\"Error: Division by zero!\")\n"
   ]
  },
  {
   "cell_type": "code",
   "execution_count": 9,
   "metadata": {},
   "outputs": [
    {
     "name": "stdout",
     "output_type": "stream",
     "text": [
      "Error: Cannot concatenate 'str' and 'int' objects.\n"
     ]
    }
   ],
   "source": [
    "try:\n",
    "    result = \"10\" + 5\n",
    "except TypeError:\n",
    "    print(\"Error: Cannot concatenate 'str' and 'int' objects.\")\n"
   ]
  },
  {
   "cell_type": "code",
   "execution_count": 10,
   "metadata": {},
   "outputs": [
    {
     "name": "stdout",
     "output_type": "stream",
     "text": [
      "Result: 5.0\n",
      "This block always executes, regardless of whether an exception occurred.\n",
      "Error: Division by zero!\n",
      "This block always executes, regardless of whether an exception occurred.\n",
      "Error: Invalid data type!\n",
      "This block always executes, regardless of whether an exception occurred.\n"
     ]
    }
   ],
   "source": [
    "def divide_numbers(a, b):\n",
    "    try:\n",
    "        result = a / b\n",
    "        print(f\"Result: {result}\")\n",
    "\n",
    "        # Uncomment the line below to intentionally raise a different exception\n",
    "        # raise ValueError(\"Custom error: This is intentional\")\n",
    "\n",
    "    except ZeroDivisionError:\n",
    "        print(\"Error: Division by zero!\")\n",
    "    except TypeError:\n",
    "        print(\"Error: Invalid data type!\")\n",
    "    except Exception as e:\n",
    "        print(f\"An unexpected error occurred: {str(e)}\")\n",
    "    finally:\n",
    "        print(\"This block always executes, regardless of whether an exception occurred.\")\n",
    "\n",
    "# Example usage\n",
    "divide_numbers(10, 2)  # No exception\n",
    "divide_numbers(10, 0)  # ZeroDivisionError\n",
    "divide_numbers(\"10\", 2)  # TypeError\n",
    "\n"
   ]
  },
  {
   "cell_type": "code",
   "execution_count": 11,
   "metadata": {},
   "outputs": [
    {
     "name": "stdout",
     "output_type": "stream",
     "text": [
      "Error: Division by zero is not allowed.\n"
     ]
    }
   ],
   "source": [
    "def divide_numbers(a, b):\n",
    "    try:\n",
    "        result = a / b\n",
    "        print(f\"Result: {result}\")\n",
    "    except ZeroDivisionError:\n",
    "        print(\"Error: Division by zero is not allowed.\")\n",
    "\n",
    "# Example usage\n",
    "numerator = 10\n",
    "denominator = 0\n",
    "\n",
    "divide_numbers(numerator, denominator)\n"
   ]
  },
  {
   "cell_type": "code",
   "execution_count": 12,
   "metadata": {},
   "outputs": [
    {
     "name": "stdout",
     "output_type": "stream",
     "text": [
      "Playing music.\n",
      "Singing a song.\n"
     ]
    }
   ],
   "source": [
    "class Musician:\n",
    "    def play_instrument(self):\n",
    "        print(\"Playing music.\")\n",
    "\n",
    "class Singer:\n",
    "    def sing(self):\n",
    "        print(\"Singing a song.\")\n",
    "\n",
    "class SingerSongwriter(Musician, Singer):\n",
    "    def perform(self):\n",
    "        self.play_instrument()\n",
    "        self.sing()\n",
    "\n",
    "my_artist = SingerSongwriter()\n",
    "my_artist.perform()  "
   ]
  },
  {
   "cell_type": "code",
   "execution_count": 13,
   "metadata": {},
   "outputs": [
    {
     "name": "stdout",
     "output_type": "stream",
     "text": [
      "My dog's name is Buddy.\n",
      "My dog is 3 years old.\n",
      "Buddy says Woof!\n"
     ]
    }
   ],
   "source": [
    "class Dog:\n",
    "    def __init__(self, name, age):\n",
    "        # Attributes\n",
    "        self.name = name\n",
    "        self.age = age\n",
    "\n",
    "    def bark(self):\n",
    "        print(f\"{self.name} says Woof!\")\n",
    "\n",
    "# Creating an instance of the Dog class\n",
    "my_dog = Dog(name=\"Buddy\", age=3)\n",
    "\n",
    "# Accessing attributes set by the __init__ method\n",
    "print(f\"My dog's name is {my_dog.name}.\")\n",
    "print(f\"My dog is {my_dog.age} years old.\")\n",
    "\n",
    "# Calling a method of the class\n",
    "my_dog.bark()  # Output: Buddy says Woof!\n"
   ]
  },
  {
   "cell_type": "code",
   "execution_count": 14,
   "metadata": {},
   "outputs": [
    {
     "name": "stdout",
     "output_type": "stream",
     "text": [
      "Match found: 50\n"
     ]
    }
   ],
   "source": [
    "import re\n",
    "\n",
    "pattern = re.compile(r'\\d+')\n",
    "\n",
    "result = pattern.search(\"The price is $50.\")\n",
    "if result:\n",
    "    print(\"Match found:\", result.group())\n",
    "else:\n",
    "    print(\"No match found.\")\n"
   ]
  },
  {
   "cell_type": "code",
   "execution_count": 18,
   "metadata": {},
   "outputs": [
    {
     "ename": "TypeError",
     "evalue": "Thread.start() takes 1 positional argument but 2 were given",
     "output_type": "error",
     "traceback": [
      "\u001b[1;31m---------------------------------------------------------------------------\u001b[0m",
      "\u001b[1;31mTypeError\u001b[0m                                 Traceback (most recent call last)",
      "Cell \u001b[1;32mIn[18], line 8\u001b[0m\n\u001b[0;32m      5\u001b[0m         \u001b[38;5;28mprint\u001b[39m(num)\n\u001b[0;32m      7\u001b[0m my_thread \u001b[38;5;241m=\u001b[39m MyThread()\n\u001b[1;32m----> 8\u001b[0m \u001b[43mmy_thread\u001b[49m\u001b[38;5;241;43m.\u001b[39;49m\u001b[43mstart\u001b[49m\u001b[43m(\u001b[49m\u001b[38;5;241;43m10\u001b[39;49m\u001b[43m)\u001b[49m\n",
      "\u001b[1;31mTypeError\u001b[0m: Thread.start() takes 1 positional argument but 2 were given"
     ]
    }
   ],
   "source": [
    "import threading\n",
    "\n",
    "class MyThread(threading.Thread):\n",
    "    def run(self, num):\n",
    "        print(num)\n",
    "\n",
    "my_thread = MyThread()\n",
    "my_thread.start(10)"
   ]
  },
  {
   "cell_type": "code",
   "execution_count": 19,
   "metadata": {},
   "outputs": [
    {
     "name": "stdout",
     "output_type": "stream",
     "text": [
      "Thread 1: 0Thread 2: A\n",
      "\n",
      "Thread 2: B\n",
      "Thread 1: 1\n",
      "Thread 1: 2Thread 2: C\n",
      "\n",
      "Thread 1: 3Thread 2: D\n",
      "\n",
      "Thread 2: EThread 1: 4\n",
      "\n",
      "Both threads have finished.\n"
     ]
    }
   ],
   "source": [
    "import threading\n",
    "import time\n",
    "\n",
    "def print_numbers():\n",
    "    for i in range(5):\n",
    "        time.sleep(1)\n",
    "        print(f\"Thread 1: {i}\")\n",
    "\n",
    "def print_letters():\n",
    "    for letter in 'ABCDE':\n",
    "        time.sleep(1)\n",
    "        print(f\"Thread 2: {letter}\")\n",
    "\n",
    "# Creating thread objects\n",
    "thread1 = threading.Thread(target=print_numbers)\n",
    "thread2 = threading.Thread(target=print_letters)\n",
    "\n",
    "# Starting the threads\n",
    "thread1.start()\n",
    "thread2.start()\n",
    "\n",
    "# Waiting for threads to finish\n",
    "thread1.join()\n",
    "thread2.join()\n",
    "\n",
    "print(\"Both threads have finished.\")\n"
   ]
  },
  {
   "cell_type": "code",
   "execution_count": 20,
   "metadata": {},
   "outputs": [
    {
     "ename": "TypeError",
     "evalue": "Thread.start() takes 1 positional argument but 2 were given",
     "output_type": "error",
     "traceback": [
      "\u001b[1;31m---------------------------------------------------------------------------\u001b[0m",
      "\u001b[1;31mTypeError\u001b[0m                                 Traceback (most recent call last)",
      "Cell \u001b[1;32mIn[20], line 8\u001b[0m\n\u001b[0;32m      5\u001b[0m         \u001b[38;5;28mprint\u001b[39m(num)\n\u001b[0;32m      7\u001b[0m my_thread \u001b[38;5;241m=\u001b[39m MyThread()\n\u001b[1;32m----> 8\u001b[0m \u001b[43mmy_thread\u001b[49m\u001b[38;5;241;43m.\u001b[39;49m\u001b[43mstart\u001b[49m\u001b[43m(\u001b[49m\u001b[38;5;241;43m10\u001b[39;49m\u001b[43m)\u001b[49m\n",
      "\u001b[1;31mTypeError\u001b[0m: Thread.start() takes 1 positional argument but 2 were given"
     ]
    }
   ],
   "source": [
    "import threading\n",
    "\n",
    "class MyThread(threading.Thread):\n",
    "    def run(self, num):\n",
    "        print(num)\n",
    "\n",
    "my_thread = MyThread()\n",
    "my_thread.start(10)"
   ]
  }
 ],
 "metadata": {
  "kernelspec": {
   "display_name": "Python 3",
   "language": "python",
   "name": "python3"
  },
  "language_info": {
   "codemirror_mode": {
    "name": "ipython",
    "version": 3
   },
   "file_extension": ".py",
   "mimetype": "text/x-python",
   "name": "python",
   "nbconvert_exporter": "python",
   "pygments_lexer": "ipython3",
   "version": "3.12.0"
  }
 },
 "nbformat": 4,
 "nbformat_minor": 2
}
