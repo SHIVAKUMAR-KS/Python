{
 "cells": [
  {
   "cell_type": "code",
   "execution_count": null,
   "metadata": {},
   "outputs": [],
   "source": [
    "#closed,encoding,mode,newlines\n",
    "f=open(\"text.txt\",'a+')\n",
    "print(f.closed)\n",
    "print(f.encoding)\n",
    "print(f.mode)\n",
    "print(f.newlines)"
   ]
  },
  {
   "cell_type": "code",
   "execution_count": null,
   "metadata": {},
   "outputs": [],
   "source": [
    "fname=input(\"ENter teh file name\")\n",
    "num_lines=0\n",
    "num_word=0\n",
    "num_char=0\n",
    "try:\n",
    "            fp=open(fname,\"r\")\n",
    "            for i  in fp:\n",
    "                    words =i.split()\n",
    "                    num_lines +=1\n",
    "                    num_word +=len(words)\n",
    "                    num_char +=len(i)\n",
    "            print(\"Lines:\",num_lines)\n",
    "            print(\"Words:\",num_word)\n",
    "            print(\"Character:\",num_char)\n",
    "            fp.close()\n",
    "except Exception:\n",
    "        print(\"Enter valid filename\")"
   ]
  },
  {
   "cell_type": "code",
   "execution_count": null,
   "metadata": {},
   "outputs": [],
   "source": [
    "#File system methods\n",
    "\n",
    "import os\n",
    "\n",
    "path ='C:\\Users\\shiva kumar\\OneDrive\\Desktop\\QR_Generator'\n",
    "dir_list =os.listdir(path)\n",
    "print(dir_list)"
   ]
  },
  {
   "cell_type": "code",
   "execution_count": null,
   "metadata": {},
   "outputs": [],
   "source": [
    "import os\n",
    "\n",
    "for (root,d\n",
    "            print(\"--------------------------\")irs,files) in os.walk(\"D:\\SIH_PROJECT\"):\n",
    "            print(root)\n",
    "            print(dirs)\n",
    "            print(files)"
   ]
  },
  {
   "cell_type": "code",
   "execution_count": null,
   "metadata": {},
   "outputs": [],
   "source": [
    "\n",
    "directory =\"files\"\n",
    "\n",
    "parent_dir =\"D:\\SIH_PROJECT\"\n",
    "\n",
    "path=os.path.join(parent_dir,directory)\n",
    "os.makedirs(path)\n",
    "\n",
    "print(\"Directoey is created \" %directory)"
   ]
  },
  {
   "cell_type": "code",
   "execution_count": null,
   "metadata": {},
   "outputs": [],
   "source": [
    "import webbrowser\n",
    "\n",
    "\n",
    "url = \"http://docs.python.org/library/webbrowser.html\"\n",
    "webbrowser.open(url)\n"
   ]
  },
  {
   "cell_type": "code",
   "execution_count": null,
   "metadata": {},
   "outputs": [],
   "source": [
    "fname=input(\"Enter the file name\")\n",
    "fh=open(fname)\n",
    "lst=list()\n",
    "words=[]\n",
    "for line in fh:\n",
    "            words +=line.split()\n",
    "words.sort()\n",
    "\n",
    "print(\"The unique word in alphabeticaal order:\")\n",
    "for word in words:\n",
    "        if word in lst:\n",
    "                continue\n",
    "        else:\n",
    "                lst.append(word)\n",
    "                print(word)\n",
    "print(lst)"
   ]
  }
 ],
 "metadata": {
  "kernelspec": {
   "display_name": "Python 3",
   "language": "python",
   "name": "python3"
  },
  "language_info": {
   "codemirror_mode": {
    "name": "ipython",
    "version": 3
   },
   "file_extension": ".py",
   "mimetype": "text/x-python",
   "name": "python",
   "nbconvert_exporter": "python",
   "pygments_lexer": "ipython3",
   "version": "3.12.0"
  }
 },
 "nbformat": 4,
 "nbformat_minor": 2
}
