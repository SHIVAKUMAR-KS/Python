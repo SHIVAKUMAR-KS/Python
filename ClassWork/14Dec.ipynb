{
 "cells": [
  {
   "cell_type": "code",
   "execution_count": 3,
   "metadata": {},
   "outputs": [
    {
     "name": "stdout",
     "output_type": "stream",
     "text": [
      "a ['a', 'b', 'c', 'd']\n",
      "b ['a', 'b', 'c', 'd']\n",
      "c ['a', 'b', 'c', 'd']\n",
      "d ['a', 'b', 'c', 'd']\n"
     ]
    }
   ],
   "source": [
    "mydict ={'c':3,'a':1,'d':4,'b':2}\n",
    "sorted_dict =mydict.keys()\n",
    "sorted_dict =sorted(sorted_dict)\n",
    "\n",
    "for key in sorted_dict:\n",
    "            print(key,sorted_dict)"
   ]
  },
  {
   "cell_type": "code",
   "execution_count": 6,
   "metadata": {},
   "outputs": [
    {
     "name": "stdout",
     "output_type": "stream",
     "text": [
      "a 1\n",
      "b 2\n",
      "c 3\n",
      "d 4\n"
     ]
    }
   ],
   "source": [
    "mydict ={'c':3,'a':1,'d':4,'b':2}\n",
    "\n",
    "sorted_dict =sorted(mydict.items())\n",
    "\n",
    "\n",
    "for k,v in sorted_dict:\n",
    "            print(k,v)"
   ]
  },
  {
   "cell_type": "code",
   "execution_count": null,
   "metadata": {},
   "outputs": [
    {
     "name": "stdout",
     "output_type": "stream",
     "text": [
      "a ['a', 'b', 'c', 'd']\n",
      "b ['a', 'b', 'c', 'd']\n",
      "c ['a', 'b', 'c', 'd']\n",
      "d ['a', 'b', 'c', 'd']\n"
     ]
    }
   ],
   "source": [
    "mydict ={'c':3,'a':1,'d':4,'b':2}\n",
    "sorted_dict =mydict.keys()\n",
    "sorted_dict =sorted(sorted_dict)\n",
    "\n",
    "for key in sorted_dict:\n",
    "            print(key,sorted_dict)"
   ]
  },
  {
   "cell_type": "code",
   "execution_count": 10,
   "metadata": {},
   "outputs": [
    {
     "name": "stdout",
     "output_type": "stream",
     "text": [
      "{'a': 23, 'e': 34, 'g': 45, 'z': 67}\n"
     ]
    }
   ],
   "source": [
    "mydict ={'a':23,'e':34,'g':45,'z':67}\n",
    "\n",
    "sorted_dict =dict(sorted(mydict.items(),key =lambda x:x[1]))\n",
    "print(sorted_dict)"
   ]
  },
  {
   "cell_type": "code",
   "execution_count": 12,
   "metadata": {},
   "outputs": [
    {
     "name": "stdout",
     "output_type": "stream",
     "text": [
      "Sorted dictionary is : {\"a\": 1, \"b\": 2, \"c\": 3, \"d\": 4}\n"
     ]
    }
   ],
   "source": [
    "import json\n",
    "\n",
    "mydict ={'b':2,'c':3,'a':1,'d':4}\n",
    "\n",
    "print(\"Sorted dictionary is :\",json.dumps(mydict,sort_keys=True))"
   ]
  },
  {
   "cell_type": "code",
   "execution_count": 15,
   "metadata": {},
   "outputs": [
    {
     "name": "stdout",
     "output_type": "stream",
     "text": [
      "sorted dictionary:\n",
      "{0: 0, 1: 2, 2: 1, 3: 4, 4: 3}\n"
     ]
    }
   ],
   "source": [
    "import pprint\n",
    "\n",
    "mydict ={1:2,3:4,4:3,2:1,0:0}\n",
    "\n",
    "print(\"sorted dictionary:\")\n",
    "pprint.pprint(mydict)"
   ]
  },
  {
   "cell_type": "code",
   "execution_count": 16,
   "metadata": {},
   "outputs": [
    {
     "ename": "AttributeError",
     "evalue": "'dict' object has no attribute 'item'",
     "output_type": "error",
     "traceback": [
      "\u001b[1;31m---------------------------------------------------------------------------\u001b[0m",
      "\u001b[1;31mAttributeError\u001b[0m                            Traceback (most recent call last)",
      "Cell \u001b[1;32mIn[16], line 5\u001b[0m\n\u001b[0;32m      1\u001b[0m \u001b[38;5;28;01mfrom\u001b[39;00m \u001b[38;5;21;01mcollections\u001b[39;00m \u001b[38;5;28;01mimport\u001b[39;00m OrderedDict\n\u001b[0;32m      3\u001b[0m mydict \u001b[38;5;241m=\u001b[39m {\u001b[38;5;124m'\u001b[39m\u001b[38;5;124mb\u001b[39m\u001b[38;5;124m'\u001b[39m:\u001b[38;5;241m2\u001b[39m,\u001b[38;5;124m'\u001b[39m\u001b[38;5;124mc\u001b[39m\u001b[38;5;124m'\u001b[39m:\u001b[38;5;241m3\u001b[39m,\u001b[38;5;124m'\u001b[39m\u001b[38;5;124ma\u001b[39m\u001b[38;5;124m'\u001b[39m:\u001b[38;5;241m1\u001b[39m,\u001b[38;5;124m'\u001b[39m\u001b[38;5;124md\u001b[39m\u001b[38;5;124m'\u001b[39m:\u001b[38;5;241m4\u001b[39m}\n\u001b[1;32m----> 5\u001b[0m sorted_dict \u001b[38;5;241m=\u001b[39m OrderedDict(\u001b[38;5;28msorted\u001b[39m(\u001b[43mmydict\u001b[49m\u001b[38;5;241;43m.\u001b[39;49m\u001b[43mitem\u001b[49m()))\n\u001b[0;32m      7\u001b[0m \u001b[38;5;28mprint\u001b[39m(sorted_dict)\n",
      "\u001b[1;31mAttributeError\u001b[0m: 'dict' object has no attribute 'item'"
     ]
    }
   ],
   "source": [
    "from collections import OrderedDict\n",
    "\n",
    "mydict = {'b':2,'c':3,'a':1,'d':4}\n",
    "\n",
    "sorted_dict = OrderedDict(sorted(mydict.item()))\n",
    "\n",
    "print(sorted_dict)\n"
   ]
  },
  {
   "cell_type": "code",
   "execution_count": 18,
   "metadata": {},
   "outputs": [
    {
     "name": "stdout",
     "output_type": "stream",
     "text": [
      "{'jan': 'january', 'feb': 'february', 'mar': 'march'}\n"
     ]
    }
   ],
   "source": [
    "#string to dictionary\n",
    "\n",
    "str =\"jan=january;feb=february;mar=march\"\n",
    "\n",
    "dictionary =dict(subString.split(\"=\") for subString in str.split(\";\"))\n",
    "print(dictionary)"
   ]
  },
  {
   "cell_type": "code",
   "execution_count": null,
   "metadata": {},
   "outputs": [],
   "source": []
  }
 ],
 "metadata": {
  "kernelspec": {
   "display_name": "Python 3",
   "language": "python",
   "name": "python3"
  },
  "language_info": {
   "codemirror_mode": {
    "name": "ipython",
    "version": 3
   },
   "file_extension": ".py",
   "mimetype": "text/x-python",
   "name": "python",
   "nbconvert_exporter": "python",
   "pygments_lexer": "ipython3",
   "version": "3.12.0"
  }
 },
 "nbformat": 4,
 "nbformat_minor": 2
}
